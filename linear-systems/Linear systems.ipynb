{
 "cells": [
  {
   "cell_type": "code",
   "execution_count": 1,
   "id": "185f3db7-3a85-4e6c-8d1d-591fbe6d21df",
   "metadata": {},
   "outputs": [],
   "source": [
    "import numpy as np\n",
    "import scipy as sp"
   ]
  },
  {
   "cell_type": "markdown",
   "id": "1d85b479-46ee-4d4c-9db0-ebb57c235c59",
   "metadata": {},
   "source": [
    "## How to solve a linear system $Ax=b$?"
   ]
  },
  {
   "cell_type": "markdown",
   "id": "ebb41349-6da2-466c-a3d0-c2a508dced0f",
   "metadata": {},
   "source": [
    "## Inverse the matrix A"
   ]
  },
  {
   "cell_type": "code",
   "execution_count": 2,
   "id": "e2b87e31-99f7-40f2-885e-933b0ed7c333",
   "metadata": {},
   "outputs": [
    {
     "data": {
      "text/plain": [
       "matrix([[2., 3.],\n",
       "        [4., 9.]])"
      ]
     },
     "execution_count": 2,
     "metadata": {},
     "output_type": "execute_result"
    }
   ],
   "source": [
    "A = np.matrix([2., 3., 4., 9.]).reshape((2, 2))\n",
    "A"
   ]
  },
  {
   "cell_type": "code",
   "execution_count": 3,
   "id": "1dca0e28-1665-4bc7-b102-08126f7ad912",
   "metadata": {},
   "outputs": [
    {
     "data": {
      "text/plain": [
       "matrix([[ 6.],\n",
       "        [15.]])"
      ]
     },
     "execution_count": 3,
     "metadata": {},
     "output_type": "execute_result"
    }
   ],
   "source": [
    "b = np.matrix([6., 15.]).reshape((2, 1))\n",
    "b"
   ]
  },
  {
   "cell_type": "code",
   "execution_count": 4,
   "id": "8c3f3ec4-e4d6-4aba-b654-6301c1692629",
   "metadata": {},
   "outputs": [
    {
     "data": {
      "text/plain": [
       "6.0"
      ]
     },
     "execution_count": 4,
     "metadata": {},
     "output_type": "execute_result"
    }
   ],
   "source": [
    "detA = np.linalg.det(A)\n",
    "detA"
   ]
  },
  {
   "cell_type": "code",
   "execution_count": 5,
   "id": "f0c28e80-214d-4e11-a8a9-c6334ed40bbb",
   "metadata": {},
   "outputs": [
    {
     "data": {
      "text/plain": [
       "matrix([[ 1.5       , -0.5       ],\n",
       "        [-0.66666667,  0.33333333]])"
      ]
     },
     "execution_count": 5,
     "metadata": {},
     "output_type": "execute_result"
    }
   ],
   "source": [
    "invA = 1/detA * np.matrix([[9., -3.], [-4., 2.]])\n",
    "invA"
   ]
  },
  {
   "cell_type": "code",
   "execution_count": 6,
   "id": "b9755243-f6f6-470b-8d42-3c9c40674416",
   "metadata": {},
   "outputs": [
    {
     "data": {
      "text/plain": [
       "matrix([[ 1., -0.],\n",
       "        [ 0.,  1.]])"
      ]
     },
     "execution_count": 6,
     "metadata": {},
     "output_type": "execute_result"
    }
   ],
   "source": [
    "np.round(A @ invA)"
   ]
  },
  {
   "cell_type": "code",
   "execution_count": 7,
   "id": "21439aaa-68e2-4f5b-9c34-f9f3c9687f11",
   "metadata": {},
   "outputs": [
    {
     "data": {
      "text/plain": [
       "matrix([[1., 0.],\n",
       "        [0., 1.]])"
      ]
     },
     "execution_count": 7,
     "metadata": {},
     "output_type": "execute_result"
    }
   ],
   "source": [
    "np.round(invA @ A)"
   ]
  },
  {
   "cell_type": "code",
   "execution_count": 8,
   "id": "3903bcd2-31da-4b20-853e-6c060e4909c2",
   "metadata": {},
   "outputs": [
    {
     "data": {
      "text/plain": [
       "matrix([[1.5],\n",
       "        [1. ]])"
      ]
     },
     "execution_count": 8,
     "metadata": {},
     "output_type": "execute_result"
    }
   ],
   "source": [
    "x = invA @ b\n",
    "x"
   ]
  },
  {
   "cell_type": "code",
   "execution_count": null,
   "id": "9973be34-d885-4e5c-a07f-3e70554c7c29",
   "metadata": {},
   "outputs": [],
   "source": []
  },
  {
   "cell_type": "markdown",
   "id": "47f87f7a-9e14-4b62-ad43-bd31c89136b8",
   "metadata": {},
   "source": [
    "In general, we can still compute the inverse of the matrix A "
   ]
  },
  {
   "cell_type": "code",
   "execution_count": 9,
   "id": "6ab97b03-71dc-4bb2-ad10-7f14c98f8faf",
   "metadata": {},
   "outputs": [
    {
     "data": {
      "text/plain": [
       "array([[ 2.,  1., -1.],\n",
       "       [-3., -1.,  2.],\n",
       "       [-2.,  1.,  2.]])"
      ]
     },
     "execution_count": 9,
     "metadata": {},
     "output_type": "execute_result"
    }
   ],
   "source": [
    "A = np.array([2., 1., -1., -3., -1., 2., -2., 1., 2.]).reshape((3,3))\n",
    "A"
   ]
  },
  {
   "cell_type": "code",
   "execution_count": 10,
   "id": "efd44af4-0400-4cde-969b-6283acc49efa",
   "metadata": {},
   "outputs": [
    {
     "data": {
      "text/plain": [
       "array([[  8.],\n",
       "       [-11.],\n",
       "       [ -3.]])"
      ]
     },
     "execution_count": 10,
     "metadata": {},
     "output_type": "execute_result"
    }
   ],
   "source": [
    "b = np.array([8, -11., -3.]).reshape((3, 1))\n",
    "b"
   ]
  },
  {
   "cell_type": "code",
   "execution_count": 11,
   "id": "25195c10-b297-498f-8eed-922c0c26cec8",
   "metadata": {},
   "outputs": [
    {
     "data": {
      "text/plain": [
       "array([[ 4.,  3., -1.],\n",
       "       [-2., -2.,  1.],\n",
       "       [ 5.,  4., -1.]])"
      ]
     },
     "execution_count": 11,
     "metadata": {},
     "output_type": "execute_result"
    }
   ],
   "source": [
    "invA = np.linalg.inv(A)\n",
    "invA"
   ]
  },
  {
   "cell_type": "code",
   "execution_count": 12,
   "id": "d4d307d6-b615-44c4-81ba-531606ecc3ac",
   "metadata": {},
   "outputs": [
    {
     "data": {
      "text/plain": [
       "array([[ 2.],\n",
       "       [ 3.],\n",
       "       [-1.]])"
      ]
     },
     "execution_count": 12,
     "metadata": {},
     "output_type": "execute_result"
    }
   ],
   "source": [
    "x = invA @ b\n",
    "x"
   ]
  },
  {
   "cell_type": "markdown",
   "id": "61f771de-9065-4468-9c8c-43916856e6c8",
   "metadata": {},
   "source": [
    "### Matrix decomposition methods"
   ]
  },
  {
   "cell_type": "markdown",
   "id": "8267c5d5-a45c-4c05-a048-6ad3c3e22253",
   "metadata": {},
   "source": [
    "## Forward and backward subtition"
   ]
  },
  {
   "cell_type": "code",
   "execution_count": 13,
   "id": "79952df8-9edd-42b7-a9ac-2cf76c422aa6",
   "metadata": {},
   "outputs": [],
   "source": [
    "# Solve Ux=b where U is upper triangular\n",
    "def backward_subt(U, b):\n",
    "    m, n = U.shape\n",
    "    assert(m == n)\n",
    "    x = np.zeros(n)\n",
    "    for i in reversed(range(n)):\n",
    "        s = 0.\n",
    "        for j in range(i, n):\n",
    "            s += U[i,j] * x[j]\n",
    "        x[i] = (b[i] - s) / U[i,i]\n",
    "    return x"
   ]
  },
  {
   "cell_type": "code",
   "execution_count": 14,
   "id": "873dd707-843b-473f-ace2-50703db6bf35",
   "metadata": {},
   "outputs": [],
   "source": [
    "# Solve Lx=b where L is lower triangular\n",
    "def forward_subt(L, b):\n",
    "    m, n = L.shape\n",
    "    assert(m == n)\n",
    "    x = np.zeros(n)\n",
    "    for i in range(n):\n",
    "        s = 0.\n",
    "        for j in range(0, i):\n",
    "            s += L[i,j] * x[j]\n",
    "        x[i] = (b[i] - s) / L[i,i]\n",
    "    return x"
   ]
  },
  {
   "cell_type": "markdown",
   "id": "23c24d18-230f-45a6-80db-df33366b641f",
   "metadata": {},
   "source": [
    "## QR decomposition"
   ]
  },
  {
   "cell_type": "markdown",
   "id": "de60f29b-0027-4437-aff7-dbdfe092ed60",
   "metadata": {},
   "source": [
    "Decompose $A = QR$ where $Q$ is orthogonal($Q^{-1}=Q^{T}$) and $R$ is upper triangular"
   ]
  },
  {
   "cell_type": "code",
   "execution_count": 15,
   "id": "b99f75a9-80eb-4fac-8241-f431b329e987",
   "metadata": {},
   "outputs": [],
   "source": [
    "m, n = A.shape\n",
    "Q, R = np.linalg.qr(A)"
   ]
  },
  {
   "cell_type": "code",
   "execution_count": 16,
   "id": "39d4bd1d-5eb3-450f-b937-3a89df7eb22a",
   "metadata": {},
   "outputs": [
    {
     "data": {
      "text/plain": [
       "array([[-0.48507125,  0.41166465,  0.77151675],\n",
       "       [ 0.72760688, -0.29939248,  0.6172134 ],\n",
       "       [ 0.48507125,  0.86075337, -0.15430335]])"
      ]
     },
     "execution_count": 16,
     "metadata": {},
     "output_type": "execute_result"
    }
   ],
   "source": [
    "Q"
   ]
  },
  {
   "cell_type": "code",
   "execution_count": 17,
   "id": "457dbddb-756f-4733-8c2a-ddaef6efe332",
   "metadata": {},
   "outputs": [
    {
     "data": {
      "text/plain": [
       "array([[-4.12310563, -0.72760688,  2.9104275 ],\n",
       "       [ 0.        ,  1.5718105 ,  0.71105713],\n",
       "       [ 0.        ,  0.        ,  0.15430335]])"
      ]
     },
     "execution_count": 17,
     "metadata": {},
     "output_type": "execute_result"
    }
   ],
   "source": [
    "R"
   ]
  },
  {
   "cell_type": "markdown",
   "id": "0e7f9851-705d-4298-9e4f-3d7cd4e7bbab",
   "metadata": {},
   "source": [
    "from $Ax=b$, we have $QRx=b$, and $Rx=Q^Tb$"
   ]
  },
  {
   "cell_type": "markdown",
   "id": "e75a5b66-f7d2-463d-91d5-037c56447dd2",
   "metadata": {},
   "source": [
    "solve $z = Q^Tb$ using backward subtitution"
   ]
  },
  {
   "cell_type": "code",
   "execution_count": 18,
   "id": "98bcbe62-cff2-4d51-9b30-997f58244fc8",
   "metadata": {},
   "outputs": [
    {
     "data": {
      "text/plain": [
       "array([[-13.33945938],\n",
       "       [  4.00437436],\n",
       "       [ -0.15430335]])"
      ]
     },
     "execution_count": 18,
     "metadata": {},
     "output_type": "execute_result"
    }
   ],
   "source": [
    "Q.T @ b"
   ]
  },
  {
   "cell_type": "code",
   "execution_count": 19,
   "id": "346544b0-b668-4391-94b5-cb1e5ca0bab6",
   "metadata": {},
   "outputs": [
    {
     "data": {
      "text/plain": [
       "array([ 2.,  3., -1.])"
      ]
     },
     "execution_count": 19,
     "metadata": {},
     "output_type": "execute_result"
    }
   ],
   "source": [
    "z = (Q.T @ b).flatten()\n",
    "x = backward_subt(R, z)\n",
    "x"
   ]
  },
  {
   "cell_type": "markdown",
   "id": "79a1985a-050e-4c81-9c90-ee03ed49b09a",
   "metadata": {},
   "source": [
    "### LU decomposition"
   ]
  },
  {
   "cell_type": "markdown",
   "id": "c9e6f19b-d1ca-401b-82aa-7454068345be",
   "metadata": {},
   "source": [
    "Decompose a matrix into a product $A = PLU$"
   ]
  },
  {
   "cell_type": "markdown",
   "id": "8847bbd4-7dbf-45f0-a73a-f9fe0564559c",
   "metadata": {},
   "source": [
    "and solve $PLU x= b$, which is $LUx = P^Tb$"
   ]
  },
  {
   "cell_type": "markdown",
   "id": "df3f1df6-2cd0-4bd1-ba03-867f348c953c",
   "metadata": {},
   "source": [
    "- Solve $Lz = t$ using forward substitution where $z = Ux$ and $t = P^T b$\n",
    "- Solve $Ux = z$ using backward subtitution"
   ]
  },
  {
   "cell_type": "code",
   "execution_count": 20,
   "id": "10336b68-8379-4082-aab6-9ceb68a1cf78",
   "metadata": {},
   "outputs": [],
   "source": [
    "P, L, U = sp.linalg.lu(A)"
   ]
  },
  {
   "cell_type": "code",
   "execution_count": 21,
   "id": "d102001f-4bab-499f-abd1-55ccf2472dec",
   "metadata": {},
   "outputs": [
    {
     "data": {
      "text/plain": [
       "array([-11.        ,   4.33333333,  -0.2       ])"
      ]
     },
     "execution_count": 21,
     "metadata": {},
     "output_type": "execute_result"
    }
   ],
   "source": [
    "t = (P.T @ b).flatten()\n",
    "z = forward_subt(L, t)\n",
    "z"
   ]
  },
  {
   "cell_type": "code",
   "execution_count": 22,
   "id": "c94a4193-632e-40cf-bcfe-c1d7ff4d84d6",
   "metadata": {},
   "outputs": [
    {
     "data": {
      "text/plain": [
       "array([ 2.,  3., -1.])"
      ]
     },
     "execution_count": 22,
     "metadata": {},
     "output_type": "execute_result"
    }
   ],
   "source": [
    "x = backward_subt(U, z)\n",
    "x"
   ]
  },
  {
   "cell_type": "markdown",
   "id": "ecd88a72-17c7-4fd8-87ff-8f7fd6488059",
   "metadata": {},
   "source": [
    "### SVD decomposition"
   ]
  },
  {
   "cell_type": "markdown",
   "id": "2a3d1de8-5d76-403b-9757-b9489bfea041",
   "metadata": {},
   "source": [
    "Decompose $A = U \\Sigma V^T$\n",
    "\n",
    "The solution is $x = V \\Sigma^{-1} U^T b$"
   ]
  },
  {
   "cell_type": "code",
   "execution_count": 23,
   "id": "7865202b-0f07-4967-80ff-fb211293b367",
   "metadata": {},
   "outputs": [],
   "source": [
    "U, S, Vt = np.linalg.svd(A)"
   ]
  },
  {
   "cell_type": "code",
   "execution_count": 24,
   "id": "04405fa4-7293-4fac-a22b-9af381cc0900",
   "metadata": {},
   "outputs": [
    {
     "data": {
      "text/plain": [
       "array([[-0.45463329, -0.45500496, -0.76568862],\n",
       "       [ 0.72562679,  0.30930747, -0.61465002],\n",
       "       [ 0.51650202, -0.83504454,  0.18954231]])"
      ]
     },
     "execution_count": 24,
     "metadata": {},
     "output_type": "execute_result"
    }
   ],
   "source": [
    "U"
   ]
  },
  {
   "cell_type": "code",
   "execution_count": 25,
   "id": "c03d0048-a96a-4f5a-a33f-e5765c766e11",
   "metadata": {},
   "outputs": [
    {
     "data": {
      "text/plain": [
       "array([5.10343603, 1.71519373, 0.11424157])"
      ]
     },
     "execution_count": 25,
     "metadata": {},
     "output_type": "execute_result"
    }
   ],
   "source": [
    "S"
   ]
  },
  {
   "cell_type": "code",
   "execution_count": 26,
   "id": "fdd47c06-1c49-4dc2-8ffd-d559aca9b6f7",
   "metadata": {},
   "outputs": [
    {
     "data": {
      "text/plain": [
       "array([[-0.80713287, -0.13006101,  0.57586514],\n",
       "       [-0.09785674, -0.93246433, -0.34775615],\n",
       "       [-0.58220322,  0.3370377 , -0.73989526]])"
      ]
     },
     "execution_count": 26,
     "metadata": {},
     "output_type": "execute_result"
    }
   ],
   "source": [
    "Vt"
   ]
  },
  {
   "cell_type": "code",
   "execution_count": 27,
   "id": "2f327758-5eab-4e3f-bd4a-becb4dccbf14",
   "metadata": {},
   "outputs": [
    {
     "data": {
      "text/plain": [
       "array([5.10343603, 1.71519373, 0.11424157])"
      ]
     },
     "execution_count": 27,
     "metadata": {},
     "output_type": "execute_result"
    }
   ],
   "source": [
    "S"
   ]
  },
  {
   "cell_type": "code",
   "execution_count": 28,
   "id": "d7141e6f-076d-46d1-9cd6-941c62f91e87",
   "metadata": {},
   "outputs": [],
   "source": [
    "invS = (np.ones(3) / S) "
   ]
  },
  {
   "cell_type": "code",
   "execution_count": 29,
   "id": "9649d1f4-f2ce-4c1b-860f-eb793ccc232d",
   "metadata": {},
   "outputs": [],
   "source": [
    "def to_dense(x):\n",
    "    n = x.shape[0]\n",
    "    y = np.zeros((n, n))\n",
    "    for i in range(n):\n",
    "        for j in range(n):\n",
    "            y[i,i] = x[i]\n",
    "    return y"
   ]
  },
  {
   "cell_type": "code",
   "execution_count": 30,
   "id": "71cdaf07-58f1-44e6-acd9-5d267f3b5f52",
   "metadata": {},
   "outputs": [
    {
     "data": {
      "text/plain": [
       "array([0.19594642, 0.58302452, 8.75338148])"
      ]
     },
     "execution_count": 30,
     "metadata": {},
     "output_type": "execute_result"
    }
   ],
   "source": [
    "invS = np.ones(n) / S\n",
    "invS"
   ]
  },
  {
   "cell_type": "code",
   "execution_count": 31,
   "id": "9ead697f-d176-4c42-a064-7b4e2c1474f9",
   "metadata": {},
   "outputs": [
    {
     "data": {
      "text/plain": [
       "array([ 2.,  3., -1.])"
      ]
     },
     "execution_count": 31,
     "metadata": {},
     "output_type": "execute_result"
    }
   ],
   "source": [
    "x = Vt.T @ to_dense(invS) @ U.T @ b\n",
    "x = x.flatten()\n",
    "x"
   ]
  },
  {
   "cell_type": "code",
   "execution_count": null,
   "id": "5d46346f-0338-4e6c-9277-6cfe1ce8c1ef",
   "metadata": {},
   "outputs": [],
   "source": []
  }
 ],
 "metadata": {
  "kernelspec": {
   "display_name": "Python 3 (ipykernel)",
   "language": "python",
   "name": "python3"
  },
  "language_info": {
   "codemirror_mode": {
    "name": "ipython",
    "version": 3
   },
   "file_extension": ".py",
   "mimetype": "text/x-python",
   "name": "python",
   "nbconvert_exporter": "python",
   "pygments_lexer": "ipython3",
   "version": "3.11.5"
  }
 },
 "nbformat": 4,
 "nbformat_minor": 5
}
